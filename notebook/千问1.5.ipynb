{
 "cells": [
  {
   "cell_type": "code",
   "execution_count": 1,
   "metadata": {},
   "outputs": [],
   "source": [
    "# 修改预训练模型的缓存目录\n",
    "import os\n",
    "\n",
    "os.environ[\"MODELSCOPE_CACHE\"] = r\"G:\\code\\pretrain_model_dir\\_modelscope\""
   ]
  },
  {
   "cell_type": "code",
   "execution_count": 2,
   "metadata": {},
   "outputs": [
    {
     "name": "stderr",
     "output_type": "stream",
     "text": [
      "2024-02-08 18:40:09,196 - modelscope - INFO - PyTorch version 2.1.0+cu121 Found.\n",
      "2024-02-08 18:40:09,199 - modelscope - INFO - TensorFlow version 2.8.0 Found.\n",
      "2024-02-08 18:40:09,200 - modelscope - INFO - Loading ast index from G:\\code\\pretrain_model_dir\\_modelscope\\ast_indexer\n",
      "2024-02-08 18:40:09,338 - modelscope - INFO - No valid ast index found from G:\\code\\pretrain_model_dir\\_modelscope\\ast_indexer, generating ast index from prebuilt!\n",
      "2024-02-08 18:40:09,421 - modelscope - INFO - Loading done! Current index file version is 1.12.0, with md5 ba00b7358e147b49b70e6555c5c8ccf2 and a total number of 964 components indexed\n",
      "c:\\tech\\Anaconda3\\envs\\nlp\\lib\\site-packages\\tqdm\\auto.py:21: TqdmWarning: IProgress not found. Please update jupyter and ipywidgets. See https://ipywidgets.readthedocs.io/en/stable/user_install.html\n",
      "  from .autonotebook import tqdm as notebook_tqdm\n",
      "Downloading: 100%|██████████| 663/663 [00:00<00:00, 132kB/s]\n",
      "Downloading: 100%|██████████| 51.0/51.0 [00:00<00:00, 3.67kB/s]\n",
      "Downloading: 100%|██████████| 216/216 [00:00<00:00, 42.5kB/s]\n",
      "Downloading: 100%|██████████| 1.59M/1.59M [00:00<00:00, 4.65MB/s]\n",
      "Downloading: 100%|█████████▉| 3.67G/3.67G [02:17<00:00, 28.7MB/s]\n",
      "Downloading: 100%|█████████▉| 3.70G/3.70G [02:21<00:00, 28.1MB/s]\n",
      "Downloading: 100%|█████████▉| 3.67G/3.67G [02:16<00:00, 29.0MB/s]\n",
      "Downloading: 100%|█████████▉| 3.65G/3.65G [02:19<00:00, 28.0MB/s]\n",
      "Downloading: 100%|█████████▉| 3.65G/3.65G [02:18<00:00, 28.3MB/s]\n",
      "Downloading: 100%|█████████▉| 3.70G/3.70G [02:18<00:00, 28.7MB/s]\n",
      "Downloading: 100%|█████████▉| 2.89G/2.89G [01:49<00:00, 28.2MB/s]\n",
      "Downloading: 100%|█████████▉| 1.45G/1.45G [00:55<00:00, 28.3MB/s]\n",
      "Downloading: 100%|██████████| 38.7k/38.7k [00:00<00:00, 879kB/s]\n",
      "Downloading: 100%|██████████| 4.13k/4.13k [00:00<00:00, 164kB/s]\n",
      "Downloading: 100%|██████████| 6.70M/6.70M [00:01<00:00, 6.60MB/s]\n",
      "Downloading: 100%|██████████| 1.13k/1.13k [00:00<00:00, 161kB/s]\n",
      "Downloading: 100%|██████████| 2.65M/2.65M [00:00<00:00, 6.80MB/s]\n"
     ]
    }
   ],
   "source": [
    "#模型下载\n",
    "from modelscope import snapshot_download\n",
    "model_dir = snapshot_download('qwen/Qwen1.5-14B-Chat')"
   ]
  },
  {
   "cell_type": "code",
   "execution_count": 3,
   "metadata": {},
   "outputs": [
    {
     "name": "stderr",
     "output_type": "stream",
     "text": [
      "Downloading: 100%|██████████| 663/663 [00:00<00:00, 45.5kB/s]\n",
      "Downloading: 100%|██████████| 51.0/51.0 [00:00<00:00, 3.35kB/s]\n",
      "Downloading: 100%|██████████| 216/216 [00:00<00:00, 26.2kB/s]\n",
      "Downloading: 100%|██████████| 1.59M/1.59M [00:00<00:00, 5.60MB/s]\n",
      "Downloading: 100%|█████████▉| 3.71G/3.71G [02:18<00:00, 28.9MB/s]\n",
      "Downloading: 100%|█████████▉| 3.69G/3.69G [02:16<00:00, 28.9MB/s]\n",
      "Downloading: 100%|█████████▉| 3.69G/3.69G [02:16<00:00, 29.0MB/s]\n",
      "Downloading: 100%|█████████▉| 3.30G/3.30G [02:02<00:00, 28.8MB/s]\n",
      "Downloading: 100%|██████████| 31.0k/31.0k [00:00<00:00, 796kB/s]\n",
      "Downloading: 100%|██████████| 4.13k/4.13k [00:00<00:00, 444kB/s]\n",
      "Downloading: 100%|██████████| 6.70M/6.70M [00:00<00:00, 9.39MB/s]\n",
      "Downloading: 100%|██████████| 1.13k/1.13k [00:00<00:00, 45.8kB/s]\n",
      "Downloading: 100%|██████████| 2.65M/2.65M [00:00<00:00, 8.74MB/s]\n"
     ]
    }
   ],
   "source": [
    "#模型下载\n",
    "from modelscope import snapshot_download\n",
    "model_dir = snapshot_download('qwen/Qwen1.5-7B-Chat')"
   ]
  },
  {
   "cell_type": "code",
   "execution_count": 4,
   "metadata": {},
   "outputs": [
    {
     "name": "stderr",
     "output_type": "stream",
     "text": [
      "Downloading: 100%|██████████| 662/662 [00:00<00:00, 82.0kB/s]\n",
      "Downloading: 100%|██████████| 51.0/51.0 [00:00<00:00, 2.26kB/s]\n",
      "Downloading: 100%|██████████| 178/178 [00:00<00:00, 19.6kB/s]\n",
      "Downloading: 100%|██████████| 1.59M/1.59M [00:00<00:00, 6.36MB/s]\n",
      "Downloading: 100%|█████████▉| 3.72G/3.72G [02:18<00:00, 28.9MB/s]\n",
      "Downloading: 100%|█████████▉| 3.64G/3.64G [02:15<00:00, 28.8MB/s]\n",
      "Downloading: 100%|██████████| 38.7k/38.7k [00:00<00:00, 1.06MB/s]\n",
      "Downloading: 100%|██████████| 4.13k/4.13k [00:00<00:00, 276kB/s]\n",
      "Downloading: 100%|██████████| 6.70M/6.70M [00:12<00:00, 557kB/s] \n",
      "Downloading: 100%|██████████| 1.13k/1.13k [00:00<00:00, 171kB/s]\n",
      "Downloading: 100%|██████████| 2.65M/2.65M [00:00<00:00, 8.73MB/s]\n"
     ]
    }
   ],
   "source": [
    "#模型下载\n",
    "from modelscope import snapshot_download\n",
    "model_dir = snapshot_download('qwen/Qwen1.5-4B-Chat')"
   ]
  },
  {
   "cell_type": "code",
   "execution_count": null,
   "metadata": {},
   "outputs": [],
   "source": []
  }
 ],
 "metadata": {
  "kernelspec": {
   "display_name": "nlp",
   "language": "python",
   "name": "python3"
  },
  "language_info": {
   "codemirror_mode": {
    "name": "ipython",
    "version": 3
   },
   "file_extension": ".py",
   "mimetype": "text/x-python",
   "name": "python",
   "nbconvert_exporter": "python",
   "pygments_lexer": "ipython3",
   "version": "3.8.12"
  }
 },
 "nbformat": 4,
 "nbformat_minor": 2
}
