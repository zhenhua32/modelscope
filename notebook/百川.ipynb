{
 "cells": [
  {
   "cell_type": "code",
   "execution_count": 1,
   "metadata": {},
   "outputs": [],
   "source": [
    "# 修改预训练模型的缓存目录\n",
    "import os\n",
    "\n",
    "os.environ[\"MODELSCOPE_CACHE\"] = r\"G:\\code\\pretrain_model_dir\\_modelscope\""
   ]
  },
  {
   "cell_type": "code",
   "execution_count": 2,
   "metadata": {},
   "outputs": [
    {
     "name": "stderr",
     "output_type": "stream",
     "text": [
      "c:\\tech\\Anaconda3\\envs\\nlp\\lib\\site-packages\\tqdm\\auto.py:21: TqdmWarning: IProgress not found. Please update jupyter and ipywidgets. See https://ipywidgets.readthedocs.io/en/stable/user_install.html\n",
      "  from .autonotebook import tqdm as notebook_tqdm\n",
      "2023-10-16 22:57:27,396 - modelscope - INFO - PyTorch version 1.13.1+cu117 Found.\n",
      "2023-10-16 22:57:27,399 - modelscope - INFO - TensorFlow version 2.8.0 Found.\n",
      "2023-10-16 22:57:27,399 - modelscope - INFO - Loading ast index from G:\\code\\pretrain_model_dir\\_modelscope\\ast_indexer\n",
      "2023-10-16 22:57:27,648 - modelscope - INFO - Loading done! Current index file version is 1.8.3, with md5 f01211d2b2e03771df6500e25770738b and a total number of 895 components indexed\n",
      "2023-10-16 22:57:29,431 - modelscope - INFO - Use user-specified model revision: v1.0.5\n",
      "2023-10-16 22:57:31,708 - modelscope - WARNING - ('PIPELINES', 'text-generation', 'Baichuan-7B-text-generation-pipe') not found in ast index file\n",
      "2023-10-16 22:57:58,596 - modelscope - WARNING - No preprocessor field found in cfg.\n",
      "2023-10-16 22:57:58,597 - modelscope - WARNING - No val key and type key found in preprocessor domain of configuration.json file.\n",
      "2023-10-16 22:57:58,597 - modelscope - WARNING - Cannot find available config to build preprocessor at mode inference, current config: {'model_dir': 'G:\\\\code\\\\pretrain_model_dir\\\\_modelscope\\\\baichuan-inc\\\\baichuan-7B'}. trying to build by task and model information.\n",
      "2023-10-16 22:57:58,598 - modelscope - WARNING - No preprocessor key ('Baichuan-7B', 'text-generation') found in PREPROCESSOR_MAP, skip building preprocessor.\n",
      "2023-10-16 22:57:58,601 - modelscope - WARNING - No preprocessor field found in cfg.\n",
      "2023-10-16 22:57:58,601 - modelscope - WARNING - No val key and type key found in preprocessor domain of configuration.json file.\n",
      "2023-10-16 22:57:58,601 - modelscope - WARNING - Cannot find available config to build preprocessor at mode inference, current config: {'model_dir': 'G:\\\\code\\\\pretrain_model_dir\\\\_modelscope\\\\baichuan-inc\\\\baichuan-7B', 'first_sequence': 'sentence', 'device_map': 'auto'}. trying to build by task and model information.\n",
      "2023-10-16 22:57:58,602 - modelscope - WARNING - No preprocessor key ('Baichuan-7B', 'text-generation') found in PREPROCESSOR_MAP, skip building preprocessor.\n"
     ]
    }
   ],
   "source": [
    "from modelscope.utils.constant import Tasks\n",
    "from modelscope.pipelines import pipeline\n",
    "text_generation_zh  = pipeline(task=Tasks.text_generation, model='baichuan-inc/baichuan-7B', device_map='auto',model_revision='v1.0.5')\n",
    "text_generation_zh._model_prepare = True"
   ]
  },
  {
   "cell_type": "code",
   "execution_count": 3,
   "metadata": {},
   "outputs": [
    {
     "name": "stderr",
     "output_type": "stream",
     "text": [
      "c:\\tech\\Anaconda3\\envs\\nlp\\lib\\site-packages\\transformers\\generation\\configuration_utils.py:362: UserWarning: `do_sample` is set to `False`. However, `temperature` is set to `0.8` -- this flag is only used in sample-based generation modes. You should set `do_sample=True` or unset `temperature`.\n",
      "  warnings.warn(\n",
      "c:\\tech\\Anaconda3\\envs\\nlp\\lib\\site-packages\\transformers\\generation\\configuration_utils.py:367: UserWarning: `do_sample` is set to `False`. However, `top_p` is set to `0.8` -- this flag is only used in sample-based generation modes. You should set `do_sample=True` or unset `top_p`.\n",
      "  warnings.warn(\n"
     ]
    },
    {
     "name": "stdout",
     "output_type": "stream",
     "text": [
      "{'text': '今天天气是真的好,阳光明媚,风和日丽,心情也跟着好了起来。 下午的时候,我正在家里看电视,忽然听见有人敲门,我打开门一看,原来是老爸回来了。 老爸一进门就说:“儿子,你妈呢?” 我说:“她出去买菜了。” 老爸说:“那你去帮我买包烟吧。” 我说:“好吧。” 于是我就去楼下的小卖部买烟。 到了小卖部,我对老板说:“老板,给我来包玉溪。” 老板说:“好嘞。” 我付完钱,正准备走的时候,老板忽然叫住我说:“小伙子,你还没给钱呢。” 我说:“什么钱?” 老板说:“你刚才买烟的钱。” 我说:“我买烟的时候,你不是说好嘞吗?怎么现在又说没给钱呢?” 老板笑着说:“我说的是好嘞,不是没给钱。” 我......'}\n"
     ]
    }
   ],
   "source": [
    "result_zh = text_generation_zh('今天天气是真的', min_length=10, max_length=512, num_beams=3,temperature=0.8,do_sample=False, early_stopping=True,top_k=50,top_p=0.8, repetition_penalty=1.2, length_penalty=1.2, no_repeat_ngram_size=6)\n",
    "print(result_zh)"
   ]
  }
 ],
 "metadata": {
  "kernelspec": {
   "display_name": "nlp",
   "language": "python",
   "name": "python3"
  },
  "language_info": {
   "codemirror_mode": {
    "name": "ipython",
    "version": 3
   },
   "file_extension": ".py",
   "mimetype": "text/x-python",
   "name": "python",
   "nbconvert_exporter": "python",
   "pygments_lexer": "ipython3",
   "version": "3.8.12"
  }
 },
 "nbformat": 4,
 "nbformat_minor": 2
}
