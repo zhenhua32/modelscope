{
 "cells": [
  {
   "cell_type": "code",
   "execution_count": 1,
   "metadata": {},
   "outputs": [],
   "source": [
    "# 修改预训练模型的缓存目录\n",
    "import os\n",
    "\n",
    "os.environ[\"MODELSCOPE_CACHE\"] = r\"G:\\code\\pretrain_model_dir\\_modelscope\""
   ]
  },
  {
   "cell_type": "code",
   "execution_count": 2,
   "metadata": {},
   "outputs": [
    {
     "name": "stderr",
     "output_type": "stream",
     "text": [
      "2024-01-31 20:49:47,205 - modelscope - INFO - PyTorch version 2.1.0+cu121 Found.\n",
      "2024-01-31 20:49:47,209 - modelscope - INFO - TensorFlow version 2.8.0 Found.\n",
      "2024-01-31 20:49:47,209 - modelscope - INFO - Loading ast index from G:\\code\\pretrain_model_dir\\_modelscope\\ast_indexer\n",
      "2024-01-31 20:49:47,498 - modelscope - INFO - Loading done! Current index file version is 1.9.4, with md5 bfb2e3fa67418cb37742cf2ad665ce75 and a total number of 945 components indexed\n",
      "Downloading: 100%|██████████| 553/553 [00:00<00:00, 93.6kB/s]\n",
      "Downloading: 100%|██████████| 911/911 [00:00<00:00, 173kB/s]\n",
      "Downloading: 100%|██████████| 613/613 [00:00<00:00, 132kB/s]\n",
      "Downloading: 100%|██████████| 56.0/56.0 [00:00<00:00, 10.2kB/s]\n",
      "Downloading: 100%|██████████| 319M/319M [00:11<00:00, 28.2MB/s] \n",
      "Downloading: 100%|█████████▉| 3.23G/3.23G [02:00<00:00, 28.7MB/s]\n",
      "Downloading: 100%|█████████▉| 1.61G/1.61G [01:02<00:00, 27.8MB/s]\n",
      "Downloading: 100%|██████████| 160M/160M [00:09<00:00, 18.2MB/s] \n",
      "Downloading: 100%|█████████▉| 1.61G/1.61G [01:04<00:00, 26.7MB/s]\n",
      "Downloading: 100%|██████████| 160M/160M [00:17<00:00, 9.77MB/s] \n",
      "Downloading: 100%|█████████▉| 3.23G/3.23G [02:10<00:00, 26.5MB/s]\n",
      "Downloading: 100%|██████████| 319M/319M [00:12<00:00, 27.1MB/s] \n",
      "Downloading: 100%|██████████| 512k/512k [00:00<00:00, 2.50MB/s]\n",
      "Downloading: 100%|█████████▉| 649M/649M [00:24<00:00, 27.8MB/s]\n",
      "Downloading: 100%|█████████▉| 1.27G/1.27G [00:48<00:00, 28.0MB/s]\n",
      "Downloading: 100%|██████████| 543/543 [00:00<00:00, 77.6kB/s]\n",
      "Downloading: 100%|██████████| 342/342 [00:00<00:00, 54.8kB/s]\n",
      "Downloading: 100%|█████████▉| 1.27G/1.27G [00:48<00:00, 27.9MB/s]\n",
      "Downloading: 100%|█████████▉| 649M/649M [00:29<00:00, 23.1MB/s]\n",
      "Downloading: 100%|██████████| 12.3k/12.3k [00:00<00:00, 2.11MB/s]\n",
      "Downloading: 100%|██████████| 346/346 [00:00<00:00, 58.2kB/s]\n",
      "Downloading: 100%|██████████| 460/460 [00:00<00:00, 67.4kB/s]\n",
      "Downloading: 100%|██████████| 807/807 [00:00<00:00, 128kB/s]\n",
      "Downloading: 100%|█████████▉| 4.86G/4.86G [03:03<00:00, 28.5MB/s]\n",
      "Downloading: 100%|█████████▉| 4.86G/4.86G [03:00<00:00, 28.9MB/s]\n",
      "Downloading: 100%|█████████▉| 4.86G/4.86G [03:04<00:00, 28.3MB/s]\n",
      "Downloading: 100%|█████████▉| 4.86G/4.86G [03:03<00:00, 28.4MB/s]\n",
      "Downloading: 100%|██████████| 1.01M/1.01M [00:00<00:00, 3.76MB/s]\n"
     ]
    }
   ],
   "source": [
    "#模型下载\n",
    "from modelscope import snapshot_download\n",
    "model_dir = snapshot_download('AI-ModelScope/stable-diffusion-2-1-base')"
   ]
  }
 ],
 "metadata": {
  "kernelspec": {
   "display_name": "nlp",
   "language": "python",
   "name": "python3"
  },
  "language_info": {
   "codemirror_mode": {
    "name": "ipython",
    "version": 3
   },
   "file_extension": ".py",
   "mimetype": "text/x-python",
   "name": "python",
   "nbconvert_exporter": "python",
   "pygments_lexer": "ipython3",
   "version": "3.8.12"
  }
 },
 "nbformat": 4,
 "nbformat_minor": 2
}
