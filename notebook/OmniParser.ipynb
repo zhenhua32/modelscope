{
 "cells": [
  {
   "cell_type": "code",
   "execution_count": 1,
   "metadata": {},
   "outputs": [],
   "source": [
    "# 修改预训练模型的缓存目录\n",
    "import os\n",
    "\n",
    "os.environ[\"MODELSCOPE_CACHE\"] = r\"G:\\code\\pretrain_model_dir\\_modelscope\""
   ]
  },
  {
   "cell_type": "code",
   "execution_count": 2,
   "metadata": {},
   "outputs": [
    {
     "name": "stderr",
     "output_type": "stream",
     "text": [
      "2024-10-30 20:36:03,526 - modelscope - INFO - PyTorch version 2.1.0+cu121 Found.\n",
      "2024-10-30 20:36:03,529 - modelscope - INFO - TensorFlow version 2.8.0 Found.\n",
      "2024-10-30 20:36:03,529 - modelscope - INFO - Loading ast index from G:\\code\\pretrain_model_dir\\_modelscope\\ast_indexer\n",
      "2024-10-30 20:36:03,849 - modelscope - INFO - Loading done! Current index file version is 1.12.0, with md5 ba00b7358e147b49b70e6555c5c8ccf2 and a total number of 964 components indexed\n",
      "c:\\tech\\Anaconda3\\envs\\nlp\\lib\\site-packages\\tqdm\\auto.py:21: TqdmWarning: IProgress not found. Please update jupyter and ipywidgets. See https://ipywidgets.readthedocs.io/en/stable/user_install.html\n",
      "  from .autonotebook import tqdm as notebook_tqdm\n",
      "Downloading: 100%|██████████| 985/985 [00:00<00:00, 204kB/s]\n",
      "Downloading: 100%|██████████| 5.53k/5.53k [00:00<00:00, 1.24MB/s]\n",
      "Downloading: 100%|██████████| 985/985 [00:00<00:00, 215kB/s]\n",
      "Downloading: 100%|██████████| 76.0/76.0 [00:00<00:00, 14.4kB/s]\n",
      "Downloading: 100%|██████████| 292/292 [00:00<00:00, 56.8kB/s]\n",
      "Downloading: 100%|██████████| 136/136 [00:00<00:00, 23.4kB/s]\n",
      "Downloading: 100%|██████████| 33.7k/33.7k [00:00<00:00, 1.01MB/s]\n",
      "Downloading: 100%|██████████| 1.11k/1.11k [00:00<00:00, 217kB/s]\n",
      "Downloading: 100%|██████████| 1.11k/1.11k [00:00<00:00, 243kB/s]\n",
      "Downloading: 100%|█████████▉| 1.01G/1.01G [00:38<00:00, 28.1MB/s]\n",
      "Downloading: 100%|██████████| 5.79M/5.79M [00:00<00:00, 15.0MB/s]\n",
      "Downloading: 100%|██████████| 1.06k/1.06k [00:00<00:00, 195kB/s]\n",
      "Downloading: 100%|█████████▉| 4.66G/4.66G [02:59<00:00, 27.8MB/s]\n",
      "Downloading: 100%|█████████▉| 4.65G/4.65G [02:55<00:00, 28.6MB/s]\n",
      "Downloading: 100%|█████████▉| 2.32G/2.32G [01:27<00:00, 28.4MB/s]\n",
      "Downloading: 100%|█████████▉| 2.32G/2.32G [01:34<00:00, 26.3MB/s]\n",
      "Downloading: 100%|██████████| 119k/119k [00:00<00:00, 1.17MB/s]\n",
      "Downloading: 100%|██████████| 2.77k/2.77k [00:00<00:00, 580kB/s]\n"
     ]
    }
   ],
   "source": [
    "#模型下载\n",
    "from modelscope import snapshot_download\n",
    "model_dir = snapshot_download('AI-ModelScope/OmniParser')"
   ]
  },
  {
   "cell_type": "code",
   "execution_count": null,
   "metadata": {},
   "outputs": [],
   "source": []
  }
 ],
 "metadata": {
  "kernelspec": {
   "display_name": "nlp",
   "language": "python",
   "name": "python3"
  },
  "language_info": {
   "codemirror_mode": {
    "name": "ipython",
    "version": 3
   },
   "file_extension": ".py",
   "mimetype": "text/x-python",
   "name": "python",
   "nbconvert_exporter": "python",
   "pygments_lexer": "ipython3",
   "version": "3.8.12"
  }
 },
 "nbformat": 4,
 "nbformat_minor": 2
}
