{
 "cells": [
  {
   "cell_type": "code",
   "execution_count": 1,
   "metadata": {},
   "outputs": [],
   "source": [
    "# 修改预训练模型的缓存目录\n",
    "import os\n",
    "\n",
    "os.environ[\"MODELSCOPE_CACHE\"] = r\"G:\\code\\pretrain_model_dir\\_modelscope\""
   ]
  },
  {
   "cell_type": "code",
   "execution_count": 2,
   "metadata": {},
   "outputs": [
    {
     "name": "stderr",
     "output_type": "stream",
     "text": [
      "2024-06-22 11:02:06,382 - modelscope - INFO - PyTorch version 2.1.0+cu121 Found.\n",
      "2024-06-22 11:02:06,385 - modelscope - INFO - TensorFlow version 2.8.0 Found.\n",
      "2024-06-22 11:02:06,386 - modelscope - INFO - Loading ast index from G:\\code\\pretrain_model_dir\\_modelscope\\ast_indexer\n",
      "2024-06-22 11:02:06,829 - modelscope - INFO - Loading done! Current index file version is 1.12.0, with md5 ba00b7358e147b49b70e6555c5c8ccf2 and a total number of 964 components indexed\n",
      "c:\\tech\\Anaconda3\\envs\\nlp\\lib\\site-packages\\tqdm\\auto.py:21: TqdmWarning: IProgress not found. Please update jupyter and ipywidgets. See https://ipywidgets.readthedocs.io/en/stable/user_install.html\n",
      "  from .autonotebook import tqdm as notebook_tqdm\n",
      "Downloading: 100%|██████████| 663/663 [00:00<00:00, 110kB/s]\n",
      "Downloading: 100%|██████████| 48.0/48.0 [00:00<00:00, 9.52kB/s]\n",
      "Downloading: 100%|██████████| 243/243 [00:00<00:00, 53.1kB/s]\n",
      "Downloading: 100%|██████████| 11.1k/11.1k [00:00<00:00, 2.08MB/s]\n",
      "Downloading: 100%|██████████| 1.59M/1.59M [00:00<00:00, 7.56MB/s]\n",
      "Downloading: 100%|█████████▉| 3.67G/3.67G [02:26<00:00, 27.0MB/s]\n",
      "Downloading: 100%|█████████▉| 3.60G/3.60G [02:17<00:00, 28.2MB/s]\n",
      "Downloading: 100%|█████████▉| 3.60G/3.60G [02:17<00:00, 28.1MB/s]\n",
      "Downloading: 100%|█████████▉| 3.31G/3.31G [02:06<00:00, 28.2MB/s]\n",
      "Downloading: 100%|██████████| 27.1k/27.1k [00:00<00:00, 903kB/s]\n",
      "Downloading: 100%|██████████| 6.41k/6.41k [00:00<00:00, 1.17MB/s]\n",
      "Downloading: 100%|██████████| 6.70M/6.70M [00:00<00:00, 9.31MB/s]\n",
      "Downloading: 100%|██████████| 1.26k/1.26k [00:00<00:00, 200kB/s]\n",
      "Downloading: 100%|██████████| 2.65M/2.65M [00:00<00:00, 7.79MB/s]\n"
     ]
    }
   ],
   "source": [
    "#模型下载\n",
    "from modelscope import snapshot_download\n",
    "model_dir = snapshot_download('qwen/Qwen2-7B-Instruct')"
   ]
  },
  {
   "cell_type": "code",
   "execution_count": 3,
   "metadata": {},
   "outputs": [
    {
     "name": "stdout",
     "output_type": "stream",
     "text": [
      "G:\\code\\pretrain_model_dir\\_modelscope\\qwen\\Qwen2-7B-Instruct\n"
     ]
    }
   ],
   "source": [
    "print(model_dir)"
   ]
  },
  {
   "cell_type": "code",
   "execution_count": 4,
   "metadata": {},
   "outputs": [
    {
     "name": "stderr",
     "output_type": "stream",
     "text": [
      "Loading checkpoint shards: 100%|██████████| 4/4 [00:09<00:00,  2.40s/it]\n",
      "Special tokens have been added in the vocabulary, make sure the associated word embeddings are fine-tuned or trained.\n"
     ]
    },
    {
     "name": "stdout",
     "output_type": "stream",
     "text": [
      "你好！很高兴能为你提供帮助。有什么问题或需要我解答的内容吗？\n"
     ]
    }
   ],
   "source": [
    "from transformers import AutoModelForCausalLM, AutoTokenizer\n",
    "\n",
    "model_dir = r\"G:\\code\\pretrain_model_dir\\_modelscope\\qwen\\Qwen2-7B-Instruct\"\n",
    "device = \"cuda\" # the device to load the model onto\n",
    "\n",
    "model = AutoModelForCausalLM.from_pretrained(\n",
    "    model_dir,\n",
    "    torch_dtype=\"auto\",\n",
    "    device_map=\"auto\"\n",
    ")\n",
    "tokenizer = AutoTokenizer.from_pretrained(model_dir)\n",
    "\n",
    "prompt = \"你好\"\n",
    "messages = [\n",
    "    {\"role\": \"system\", \"content\": \"You are a helpful assistant.\"},\n",
    "    {\"role\": \"user\", \"content\": prompt}\n",
    "]\n",
    "text = tokenizer.apply_chat_template(\n",
    "    messages,\n",
    "    tokenize=False,\n",
    "    add_generation_prompt=True\n",
    ")\n",
    "model_inputs = tokenizer([text], return_tensors=\"pt\").to(device)\n",
    "\n",
    "generated_ids = model.generate(\n",
    "    model_inputs.input_ids,\n",
    "    max_new_tokens=512\n",
    ")\n",
    "generated_ids = [\n",
    "    output_ids[len(input_ids):] for input_ids, output_ids in zip(model_inputs.input_ids, generated_ids)\n",
    "]\n",
    "\n",
    "response = tokenizer.batch_decode(generated_ids, skip_special_tokens=True)[0]\n",
    "print(response)"
   ]
  },
  {
   "cell_type": "code",
   "execution_count": 6,
   "metadata": {},
   "outputs": [
    {
     "data": {
      "text/plain": [
       "(torch.bfloat16, device(type='cuda', index=0))"
      ]
     },
     "execution_count": 6,
     "metadata": {},
     "output_type": "execute_result"
    }
   ],
   "source": [
    "model.dtype, model.device"
   ]
  }
 ],
 "metadata": {
  "kernelspec": {
   "display_name": "nlp",
   "language": "python",
   "name": "python3"
  },
  "language_info": {
   "codemirror_mode": {
    "name": "ipython",
    "version": 3
   },
   "file_extension": ".py",
   "mimetype": "text/x-python",
   "name": "python",
   "nbconvert_exporter": "python",
   "pygments_lexer": "ipython3",
   "version": "3.8.12"
  }
 },
 "nbformat": 4,
 "nbformat_minor": 2
}
