{
 "cells": [
  {
   "cell_type": "code",
   "execution_count": 1,
   "metadata": {},
   "outputs": [],
   "source": [
    "# 修改预训练模型的缓存目录\n",
    "import os\n",
    "\n",
    "os.environ[\"MODELSCOPE_CACHE\"] = r\"G:\\code\\pretrain_model_dir\\_modelscope\""
   ]
  },
  {
   "cell_type": "code",
   "execution_count": 2,
   "metadata": {},
   "outputs": [
    {
     "name": "stderr",
     "output_type": "stream",
     "text": [
      "2024-08-17 10:53:24,961 - modelscope - INFO - PyTorch version 2.1.0+cu121 Found.\n",
      "2024-08-17 10:53:24,967 - modelscope - INFO - TensorFlow version 2.8.0 Found.\n",
      "2024-08-17 10:53:24,967 - modelscope - INFO - Loading ast index from G:\\code\\pretrain_model_dir\\_modelscope\\ast_indexer\n",
      "2024-08-17 10:53:25,305 - modelscope - INFO - Loading done! Current index file version is 1.12.0, with md5 ba00b7358e147b49b70e6555c5c8ccf2 and a total number of 964 components indexed\n",
      "c:\\tech\\Anaconda3\\envs\\nlp\\lib\\site-packages\\tqdm\\auto.py:21: TqdmWarning: IProgress not found. Please update jupyter and ipywidgets. See https://ipywidgets.readthedocs.io/en/stable/user_install.html\n",
      "  from .autonotebook import tqdm as notebook_tqdm\n",
      "Downloading: 100%|██████████| 1.23k/1.23k [00:00<00:00, 279kB/s]\n",
      "Downloading: 100%|██████████| 73.0/73.0 [00:00<00:00, 8.54kB/s]\n",
      "Downloading: 100%|██████████| 206/206 [00:00<00:00, 42.5kB/s]\n",
      "Downloading: 100%|██████████| 11.1k/11.1k [00:00<00:00, 2.05MB/s]\n",
      "Downloading: 100%|██████████| 1.59M/1.59M [00:00<00:00, 4.86MB/s]\n",
      "Downloading: 100%|█████████▉| 3.71G/3.71G [02:25<00:00, 27.3MB/s]\n",
      "Downloading: 100%|█████████▉| 3.53G/3.53G [02:15<00:00, 27.9MB/s]\n",
      "Downloading: 100%|█████████▉| 1.02G/1.02G [00:38<00:00, 28.6MB/s]\n",
      "Downloading: 100%|██████████| 82.2k/82.2k [00:00<00:00, 1.03MB/s]\n",
      "Downloading: 100%|██████████| 6.26k/6.26k [00:00<00:00, 713kB/s]\n",
      "Downloading: 100%|██████████| 6.70M/6.70M [00:00<00:00, 15.3MB/s]\n",
      "Downloading: 100%|██████████| 1.26k/1.26k [00:00<00:00, 283kB/s]\n",
      "Downloading: 100%|██████████| 2.65M/2.65M [00:00<00:00, 8.93MB/s]\n"
     ]
    }
   ],
   "source": [
    "#模型下载\n",
    "from modelscope import snapshot_download\n",
    "model_dir = snapshot_download('qwen/Qwen2-7B-Instruct-GPTQ-Int8')"
   ]
  },
  {
   "cell_type": "code",
   "execution_count": 3,
   "metadata": {},
   "outputs": [
    {
     "name": "stderr",
     "output_type": "stream",
     "text": [
      "Downloading: 100%|██████████| 1.23k/1.23k [00:00<00:00, 204kB/s]\n",
      "Downloading: 100%|██████████| 73.0/73.0 [00:00<00:00, 11.8kB/s]\n",
      "Downloading: 100%|██████████| 243/243 [00:00<00:00, 51.2kB/s]\n",
      "Downloading: 100%|██████████| 11.1k/11.1k [00:00<00:00, 1.36MB/s]\n",
      "Downloading: 100%|██████████| 1.59M/1.59M [00:00<00:00, 2.76MB/s]\n",
      "Downloading: 100%|█████████▉| 3.69G/3.69G [02:22<00:00, 27.9MB/s]\n",
      "Downloading: 100%|█████████▉| 1.50G/1.50G [00:57<00:00, 27.8MB/s]\n",
      "Downloading: 100%|██████████| 82.2k/82.2k [00:00<00:00, 968kB/s]\n",
      "Downloading: 100%|██████████| 6.29k/6.29k [00:00<00:00, 380kB/s]\n",
      "Downloading: 100%|██████████| 6.70M/6.70M [00:00<00:00, 16.2MB/s]\n",
      "Downloading: 100%|██████████| 1.26k/1.26k [00:00<00:00, 81.7kB/s]\n",
      "Downloading: 100%|██████████| 2.65M/2.65M [00:00<00:00, 9.01MB/s]\n"
     ]
    }
   ],
   "source": [
    "#模型下载\n",
    "from modelscope import snapshot_download\n",
    "model_dir = snapshot_download('qwen/Qwen2-7B-Instruct-GPTQ-Int4')"
   ]
  },
  {
   "cell_type": "code",
   "execution_count": 4,
   "metadata": {},
   "outputs": [
    {
     "name": "stderr",
     "output_type": "stream",
     "text": [
      "Downloading: 100%|██████████| 80.0/80.0 [00:00<00:00, 9.00kB/s]\n",
      "Downloading: 100%|██████████| 297/297 [00:00<00:00, 59.4kB/s]\n",
      "Downloading: 100%|██████████| 879/879 [00:00<00:00, 125kB/s]\n",
      "Downloading: 100%|██████████| 284/284 [00:00<00:00, 45.1kB/s]\n",
      "Downloading: 100%|██████████| 51.0/51.0 [00:00<00:00, 7.45kB/s]\n",
      "Downloading: 100%|██████████| 34.6k/34.6k [00:00<00:00, 1.12MB/s]\n",
      "Downloading: 100%|██████████| 117/117 [00:00<00:00, 16.7kB/s]\n",
      "Downloading: 100%|█████████▉| 4.65G/4.65G [02:53<00:00, 28.8MB/s]\n",
      "Downloading: 100%|█████████▉| 1.97G/1.97G [01:13<00:00, 28.7MB/s]\n",
      "Downloading: 100%|██████████| 27.1k/27.1k [00:00<00:00, 659kB/s]\n",
      "Downloading: 100%|██████████| 63.7k/63.7k [00:00<00:00, 829kB/s]\n",
      "Downloading: 100%|██████████| 349/349 [00:00<00:00, 20.4kB/s]\n",
      "Downloading: 100%|██████████| 9.59k/9.59k [00:00<00:00, 850kB/s]\n",
      "Downloading: 100%|██████████| 55.0/55.0 [00:00<00:00, 4.53kB/s]\n",
      "Downloading: 100%|██████████| 370/370 [00:00<00:00, 77.0kB/s]\n",
      "Downloading: 100%|██████████| 10.6k/10.6k [00:00<00:00, 766kB/s]\n",
      "Downloading: 100%|██████████| 6.70M/6.70M [00:00<00:00, 13.0MB/s]\n",
      "Downloading: 100%|██████████| 1.28k/1.28k [00:00<00:00, 80.2kB/s]\n",
      "Downloading: 100%|██████████| 2.65M/2.65M [00:00<00:00, 8.07MB/s]\n"
     ]
    }
   ],
   "source": [
    "#模型下载\n",
    "from modelscope import snapshot_download\n",
    "model_dir = snapshot_download('iic/gte_Qwen2-1.5B-instruct')"
   ]
  },
  {
   "cell_type": "code",
   "execution_count": 3,
   "metadata": {},
   "outputs": [
    {
     "name": "stdout",
     "output_type": "stream",
     "text": [
      "G:\\code\\pretrain_model_dir\\_modelscope\\qwen\\Qwen2-7B-Instruct\n"
     ]
    }
   ],
   "source": [
    "print(model_dir)"
   ]
  },
  {
   "cell_type": "code",
   "execution_count": 4,
   "metadata": {},
   "outputs": [
    {
     "name": "stderr",
     "output_type": "stream",
     "text": [
      "Loading checkpoint shards: 100%|██████████| 4/4 [00:09<00:00,  2.40s/it]\n",
      "Special tokens have been added in the vocabulary, make sure the associated word embeddings are fine-tuned or trained.\n"
     ]
    },
    {
     "name": "stdout",
     "output_type": "stream",
     "text": [
      "你好！很高兴能为你提供帮助。有什么问题或需要我解答的内容吗？\n"
     ]
    }
   ],
   "source": [
    "from transformers import AutoModelForCausalLM, AutoTokenizer\n",
    "\n",
    "model_dir = r\"G:\\code\\pretrain_model_dir\\_modelscope\\qwen\\Qwen2-7B-Instruct\"\n",
    "device = \"cuda\" # the device to load the model onto\n",
    "\n",
    "model = AutoModelForCausalLM.from_pretrained(\n",
    "    model_dir,\n",
    "    torch_dtype=\"auto\",\n",
    "    device_map=\"auto\"\n",
    ")\n",
    "tokenizer = AutoTokenizer.from_pretrained(model_dir)\n",
    "\n",
    "prompt = \"你好\"\n",
    "messages = [\n",
    "    {\"role\": \"system\", \"content\": \"You are a helpful assistant.\"},\n",
    "    {\"role\": \"user\", \"content\": prompt}\n",
    "]\n",
    "text = tokenizer.apply_chat_template(\n",
    "    messages,\n",
    "    tokenize=False,\n",
    "    add_generation_prompt=True\n",
    ")\n",
    "model_inputs = tokenizer([text], return_tensors=\"pt\").to(device)\n",
    "\n",
    "generated_ids = model.generate(\n",
    "    model_inputs.input_ids,\n",
    "    max_new_tokens=512\n",
    ")\n",
    "generated_ids = [\n",
    "    output_ids[len(input_ids):] for input_ids, output_ids in zip(model_inputs.input_ids, generated_ids)\n",
    "]\n",
    "\n",
    "response = tokenizer.batch_decode(generated_ids, skip_special_tokens=True)[0]\n",
    "print(response)"
   ]
  },
  {
   "cell_type": "code",
   "execution_count": 6,
   "metadata": {},
   "outputs": [
    {
     "data": {
      "text/plain": [
       "(torch.bfloat16, device(type='cuda', index=0))"
      ]
     },
     "execution_count": 6,
     "metadata": {},
     "output_type": "execute_result"
    }
   ],
   "source": [
    "model.dtype, model.device"
   ]
  }
 ],
 "metadata": {
  "kernelspec": {
   "display_name": "nlp",
   "language": "python",
   "name": "python3"
  },
  "language_info": {
   "codemirror_mode": {
    "name": "ipython",
    "version": 3
   },
   "file_extension": ".py",
   "mimetype": "text/x-python",
   "name": "python",
   "nbconvert_exporter": "python",
   "pygments_lexer": "ipython3",
   "version": "3.8.12"
  }
 },
 "nbformat": 4,
 "nbformat_minor": 2
}
