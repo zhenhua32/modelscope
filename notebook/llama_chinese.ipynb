{
 "cells": [
  {
   "cell_type": "code",
   "execution_count": 1,
   "metadata": {},
   "outputs": [],
   "source": [
    "# 修改预训练模型的缓存目录\n",
    "import os\n",
    "\n",
    "os.environ[\"MODELSCOPE_CACHE\"] = r\"G:\\code\\pretrain_model_dir\\_modelscope\""
   ]
  },
  {
   "cell_type": "code",
   "execution_count": 2,
   "metadata": {},
   "outputs": [
    {
     "name": "stderr",
     "output_type": "stream",
     "text": [
      "2024-05-18 14:26:38,749 - modelscope - INFO - PyTorch version 2.1.0+cu121 Found.\n",
      "2024-05-18 14:26:38,752 - modelscope - INFO - TensorFlow version 2.8.0 Found.\n",
      "2024-05-18 14:26:38,752 - modelscope - INFO - Loading ast index from G:\\code\\pretrain_model_dir\\_modelscope\\ast_indexer\n",
      "2024-05-18 14:26:38,974 - modelscope - INFO - Loading done! Current index file version is 1.12.0, with md5 ba00b7358e147b49b70e6555c5c8ccf2 and a total number of 964 components indexed\n",
      "c:\\tech\\Anaconda3\\envs\\nlp\\lib\\site-packages\\tqdm\\auto.py:21: TqdmWarning: IProgress not found. Please update jupyter and ipywidgets. See https://ipywidgets.readthedocs.io/en/stable/user_install.html\n",
      "  from .autonotebook import tqdm as notebook_tqdm\n",
      "Downloading: 100%|██████████| 200/200 [00:00<00:00, 28.6kB/s]\n",
      "Downloading: 100%|██████████| 694/694 [00:00<00:00, 88.7kB/s]\n",
      "Downloading: 100%|██████████| 686/686 [00:00<00:00, 52.1kB/s]\n",
      "Downloading: 100%|██████████| 47.0/47.0 [00:00<00:00, 9.14kB/s]\n",
      "Downloading: 100%|█████████▉| 1.03G/1.03G [00:41<00:00, 27.0MB/s]\n",
      "Downloading: 100%|█████████▉| 1.04G/1.04G [00:40<00:00, 27.6MB/s]\n",
      "Downloading: 100%|██████████| 387/387 [00:00<00:00, 42.2kB/s]\n",
      "Downloading: 100%|█████████▉| 1.04G/1.04G [00:40<00:00, 27.4MB/s]\n",
      "Downloading: 100%|██████████| 175k/175k [00:00<00:00, 1.33MB/s]\n",
      "Downloading: 100%|██████████| 57.0/57.0 [00:00<00:00, 6.26kB/s]\n",
      "Downloading: 100%|██████████| 4.83M/4.83M [00:00<00:00, 12.3MB/s]\n",
      "Downloading: 100%|██████████| 4.83M/4.83M [00:00<00:00, 9.49MB/s]\n",
      "Downloading: 100%|██████████| 280/280 [00:00<00:00, 26.2kB/s]\n",
      "Downloading: 100%|██████████| 280/280 [00:00<00:00, 36.4kB/s]\n",
      "Downloading: 100%|██████████| 16.3M/16.3M [00:06<00:00, 2.67MB/s]\n",
      "Downloading: 100%|██████████| 16.3M/16.3M [00:01<00:00, 11.2MB/s]\n",
      "Downloading: 100%|██████████| 418/418 [00:00<00:00, 52.1kB/s]\n",
      "Downloading: 100%|██████████| 418/418 [00:00<00:00, 69.9kB/s]\n"
     ]
    }
   ],
   "source": [
    "#模型下载\n",
    "from modelscope import snapshot_download\n",
    "model_dir = snapshot_download('AI-ModelScope/multilingual-e5-base')"
   ]
  },
  {
   "cell_type": "code",
   "execution_count": 2,
   "metadata": {},
   "outputs": [
    {
     "name": "stderr",
     "output_type": "stream",
     "text": [
      "2024-04-18 22:51:05,456 - modelscope - INFO - PyTorch version 2.1.0+cu121 Found.\n",
      "2024-04-18 22:51:05,459 - modelscope - INFO - TensorFlow version 2.8.0 Found.\n",
      "2024-04-18 22:51:05,459 - modelscope - INFO - Loading ast index from G:\\code\\pretrain_model_dir\\_modelscope\\ast_indexer\n",
      "2024-04-18 22:51:05,917 - modelscope - INFO - Loading done! Current index file version is 1.12.0, with md5 ba00b7358e147b49b70e6555c5c8ccf2 and a total number of 964 components indexed\n",
      "c:\\tech\\Anaconda3\\envs\\nlp\\lib\\site-packages\\tqdm\\auto.py:21: TqdmWarning: IProgress not found. Please update jupyter and ipywidgets. See https://ipywidgets.readthedocs.io/en/stable/user_install.html\n",
      "  from .autonotebook import tqdm as notebook_tqdm\n",
      "2024-04-18 22:51:09,712 - modelscope - WARNING - Model revision not specified, use revision: v1.0.0\n",
      "Downloading: 100%|██████████| 657/657 [00:00<00:00, 124kB/s]\n",
      "Downloading: 100%|██████████| 183/183 [00:00<00:00, 37.2kB/s]\n",
      "Downloading: 100%|██████████| 197/197 [00:00<00:00, 33.6kB/s]\n",
      "Downloading: 100%|█████████▉| 9.29G/9.29G [05:55<00:00, 28.0MB/s]\n",
      "Downloading: 100%|█████████▉| 3.26G/3.26G [02:03<00:00, 28.3MB/s]\n",
      "Downloading: 100%|██████████| 26.2k/26.2k [00:00<00:00, 610kB/s]\n",
      "Downloading: 100%|██████████| 8.69k/8.69k [00:00<00:00, 1.76MB/s]\n",
      "Downloading: 100%|██████████| 414/414 [00:00<00:00, 81.5kB/s]\n",
      "Downloading: 100%|██████████| 488k/488k [00:00<00:00, 2.16MB/s]\n",
      "Downloading: 100%|██████████| 770/770 [00:00<00:00, 158kB/s]\n"
     ]
    }
   ],
   "source": [
    "#模型下载\n",
    "from modelscope import snapshot_download\n",
    "model_dir = snapshot_download('modelscope/Llama2-Chinese-7b-Chat-ms')"
   ]
  },
  {
   "cell_type": "code",
   "execution_count": null,
   "metadata": {},
   "outputs": [],
   "source": []
  }
 ],
 "metadata": {
  "kernelspec": {
   "display_name": "nlp",
   "language": "python",
   "name": "python3"
  },
  "language_info": {
   "codemirror_mode": {
    "name": "ipython",
    "version": 3
   },
   "file_extension": ".py",
   "mimetype": "text/x-python",
   "name": "python",
   "nbconvert_exporter": "python",
   "pygments_lexer": "ipython3",
   "version": "3.8.12"
  }
 },
 "nbformat": 4,
 "nbformat_minor": 2
}
